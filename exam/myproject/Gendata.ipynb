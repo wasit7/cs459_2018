{
 "cells": [
  {
   "cell_type": "code",
   "execution_count": 1,
   "metadata": {},
   "outputs": [
    {
     "name": "stdout",
     "output_type": "stream",
     "text": [
      "BreadBasket_DMS.csv\r\n"
     ]
    }
   ],
   "source": [
    "%ls ../data"
   ]
  },
  {
   "cell_type": "code",
   "execution_count": 2,
   "metadata": {},
   "outputs": [
    {
     "data": {
      "text/plain": [
       "array(['Thomas Jones', 'Oscar Taylor', 'Bob Smith', 'Oscar Johnson',\n",
       "       'Alex Davies', 'Oliver Evans', 'Charlie Evans', 'Jacob Brown',\n",
       "       'Alex Evans', 'Oscar Davies'], dtype='<U15')"
      ]
     },
     "execution_count": 2,
     "metadata": {},
     "output_type": "execute_result"
    }
   ],
   "source": [
    "import random\n",
    "import numpy as np\n",
    "first_names=('Alex','Bob','Cath','Claire','David','Claire','Oliver','Jack','Harry','Jacob','Charlie',\n",
    "             'Thomas','George','Oscar','James','William')\n",
    "last_names=('Smith','Jones','Taylor','Davies','Brown','Wilson','Evans','Johnson')\n",
    "people={}\n",
    "for i in first_names:\n",
    "    for j in last_names:\n",
    "        x=i+\" \"+j\n",
    "        people[x]=1\n",
    "    \n",
    "members=np.random.permutation(list(people.keys()))\n",
    "members[:10]"
   ]
  },
  {
   "cell_type": "code",
   "execution_count": 3,
   "metadata": {},
   "outputs": [
    {
     "data": {
      "text/plain": [
       "datetime.timedelta(365)"
      ]
     },
     "execution_count": 3,
     "metadata": {},
     "output_type": "execute_result"
    }
   ],
   "source": [
    "from datetime import datetime, timedelta\n",
    "d = timedelta(days=365)\n",
    "d"
   ]
  },
  {
   "cell_type": "code",
   "execution_count": 4,
   "metadata": {},
   "outputs": [
    {
     "data": {
      "text/plain": [
       "datetime.datetime(2018, 3, 20, 0, 0)"
      ]
     },
     "execution_count": 4,
     "metadata": {},
     "output_type": "execute_result"
    }
   ],
   "source": [
    "datetime.strptime('2019-3-20','%Y-%m-%d')-d"
   ]
  },
  {
   "cell_type": "code",
   "execution_count": 5,
   "metadata": {
    "scrolled": true
   },
   "outputs": [
    {
     "data": {
      "text/plain": [
       "datetime.datetime(1984, 1, 20, 0, 0)"
      ]
     },
     "execution_count": 5,
     "metadata": {},
     "output_type": "execute_result"
    }
   ],
   "source": [
    "old_days=99*365\n",
    "young_days=18*365\n",
    "datetime.strptime('2019-3-20','%Y-%m-%d')-timedelta(days=random.randint(young_days,old_days))"
   ]
  },
  {
   "cell_type": "code",
   "execution_count": 6,
   "metadata": {},
   "outputs": [
    {
     "name": "stdout",
     "output_type": "stream",
     "text": [
      "Oscar Wilson True\n"
     ]
    }
   ],
   "source": [
    "for i in members:\n",
    "    firstname,lastname=i.split()\n",
    "    dob=datetime.strptime('2019-3-20','%Y-%m-%d')-timedelta(days=random.randint(young_days,old_days))\n",
    "    obj,created=Customer.objects.update_or_create(\n",
    "        firstname=firstname,\n",
    "        lastname=lastname,\n",
    "        defaults={\n",
    "            'firstname':firstname,\n",
    "            'lastname':lastname,\n",
    "            'dob': dob\n",
    "        },\n",
    "    )\n",
    "print(obj,created)"
   ]
  },
  {
   "cell_type": "code",
   "execution_count": 7,
   "metadata": {},
   "outputs": [
    {
     "data": {
      "text/html": [
       "<div>\n",
       "<style scoped>\n",
       "    .dataframe tbody tr th:only-of-type {\n",
       "        vertical-align: middle;\n",
       "    }\n",
       "\n",
       "    .dataframe tbody tr th {\n",
       "        vertical-align: top;\n",
       "    }\n",
       "\n",
       "    .dataframe thead th {\n",
       "        text-align: right;\n",
       "    }\n",
       "</style>\n",
       "<table border=\"1\" class=\"dataframe\">\n",
       "  <thead>\n",
       "    <tr style=\"text-align: right;\">\n",
       "      <th></th>\n",
       "      <th>Transaction</th>\n",
       "      <th>Item</th>\n",
       "      <th>Datetime</th>\n",
       "    </tr>\n",
       "  </thead>\n",
       "  <tbody>\n",
       "    <tr>\n",
       "      <th>0</th>\n",
       "      <td>1</td>\n",
       "      <td>Bread</td>\n",
       "      <td>2016-10-30 09:58:11</td>\n",
       "    </tr>\n",
       "    <tr>\n",
       "      <th>1</th>\n",
       "      <td>2</td>\n",
       "      <td>Scandinavian</td>\n",
       "      <td>2016-10-30 10:05:34</td>\n",
       "    </tr>\n",
       "    <tr>\n",
       "      <th>2</th>\n",
       "      <td>2</td>\n",
       "      <td>Scandinavian</td>\n",
       "      <td>2016-10-30 10:05:34</td>\n",
       "    </tr>\n",
       "    <tr>\n",
       "      <th>3</th>\n",
       "      <td>3</td>\n",
       "      <td>Hot chocolate</td>\n",
       "      <td>2016-10-30 10:07:57</td>\n",
       "    </tr>\n",
       "    <tr>\n",
       "      <th>4</th>\n",
       "      <td>3</td>\n",
       "      <td>Jam</td>\n",
       "      <td>2016-10-30 10:07:57</td>\n",
       "    </tr>\n",
       "    <tr>\n",
       "      <th>5</th>\n",
       "      <td>3</td>\n",
       "      <td>Cookies</td>\n",
       "      <td>2016-10-30 10:07:57</td>\n",
       "    </tr>\n",
       "    <tr>\n",
       "      <th>6</th>\n",
       "      <td>4</td>\n",
       "      <td>Muffin</td>\n",
       "      <td>2016-10-30 10:08:41</td>\n",
       "    </tr>\n",
       "    <tr>\n",
       "      <th>7</th>\n",
       "      <td>5</td>\n",
       "      <td>Coffee</td>\n",
       "      <td>2016-10-30 10:13:03</td>\n",
       "    </tr>\n",
       "    <tr>\n",
       "      <th>8</th>\n",
       "      <td>5</td>\n",
       "      <td>Pastry</td>\n",
       "      <td>2016-10-30 10:13:03</td>\n",
       "    </tr>\n",
       "    <tr>\n",
       "      <th>9</th>\n",
       "      <td>5</td>\n",
       "      <td>Bread</td>\n",
       "      <td>2016-10-30 10:13:03</td>\n",
       "    </tr>\n",
       "  </tbody>\n",
       "</table>\n",
       "</div>"
      ],
      "text/plain": [
       "   Transaction           Item            Datetime\n",
       "0            1          Bread 2016-10-30 09:58:11\n",
       "1            2   Scandinavian 2016-10-30 10:05:34\n",
       "2            2   Scandinavian 2016-10-30 10:05:34\n",
       "3            3  Hot chocolate 2016-10-30 10:07:57\n",
       "4            3            Jam 2016-10-30 10:07:57\n",
       "5            3        Cookies 2016-10-30 10:07:57\n",
       "6            4         Muffin 2016-10-30 10:08:41\n",
       "7            5         Coffee 2016-10-30 10:13:03\n",
       "8            5         Pastry 2016-10-30 10:13:03\n",
       "9            5          Bread 2016-10-30 10:13:03"
      ]
     },
     "execution_count": 7,
     "metadata": {},
     "output_type": "execute_result"
    }
   ],
   "source": [
    "import pandas as pd\n",
    "df = pd.read_csv('../data/BreadBasket_DMS.csv')\n",
    "df['Datetime']=pd.to_datetime(df.Date+' '+df.Time, format='%Y-%m-%d %H:%M:%S')\n",
    "df.drop(['Date','Time'],axis=1,inplace=True)\n",
    "df.head(10)"
   ]
  },
  {
   "cell_type": "code",
   "execution_count": 8,
   "metadata": {},
   "outputs": [
    {
     "data": {
      "application/vnd.jupyter.widget-view+json": {
       "model_id": "acfd9e086afa4fd7b9083a94e23cc1e8",
       "version_major": 2,
       "version_minor": 0
      },
      "text/plain": [
       "HBox(children=(IntProgress(value=0, max=21293), HTML(value='')))"
      ]
     },
     "metadata": {},
     "output_type": "display_data"
    },
    {
     "name": "stdout",
     "output_type": "stream",
     "text": [
      "\n"
     ]
    }
   ],
   "source": [
    "import pytz\n",
    "from tqdm import tqdm_notebook\n",
    "\n",
    "bkk_tz = pytz.timezone(\"UTC\")\n",
    "all_customers=Customer.objects.all()\n",
    "\n",
    "for i in tqdm_notebook( range(df.shape[0]) ):\n",
    "    r=df.iloc[i]\n",
    "    item, created = Item.objects.get_or_create(\n",
    "        name=r.Item,\n",
    "        defaults={\n",
    "            'name': r.Item, \n",
    "            'price': random.randint(20,40)*10\n",
    "        }\n",
    "    )\n",
    "    \n",
    "    transaction, created = Transaction.objects.get_or_create(\n",
    "        pk=r.Transaction,\n",
    "        defaults={\n",
    "            'datetime': bkk_tz.localize(r.Datetime), \n",
    "            'customer': random.choice(all_customers)\n",
    "        }\n",
    "    )\n",
    "    \n",
    "    rec, created = Record.objects.get_or_create(\n",
    "        pk=i+1,\n",
    "        defaults={\n",
    "            'transaction': transaction, \n",
    "            'item': item\n",
    "        }\n",
    "    )"
   ]
  },
  {
   "cell_type": "code",
   "execution_count": null,
   "metadata": {},
   "outputs": [],
   "source": []
  }
 ],
 "metadata": {
  "kernelspec": {
   "display_name": "Django Shell-Plus",
   "language": "python",
   "name": "django_extensions"
  },
  "language_info": {
   "codemirror_mode": {
    "name": "ipython",
    "version": 3
   },
   "file_extension": ".py",
   "mimetype": "text/x-python",
   "name": "python",
   "nbconvert_exporter": "python",
   "pygments_lexer": "ipython3",
   "version": "3.6.6"
  }
 },
 "nbformat": 4,
 "nbformat_minor": 2
}
