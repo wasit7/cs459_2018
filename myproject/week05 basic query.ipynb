{
 "cells": [
  {
   "cell_type": "markdown",
   "metadata": {},
   "source": [
    "## week05_2\n",
    "\n",
    "```sh\n",
    "$ source env/bin/activate\n",
    "$ pip install django-extensions\n",
    "$ pip install jupyter\n",
    "\n",
    "INSTALLED_APPS = [\n",
    "...\n",
    "'django_extensions',\n",
    "]\n",
    "\n",
    "$ python manage.py shell_plus --notebook\n",
    "```"
   ]
  },
  {
   "cell_type": "code",
   "execution_count": 6,
   "metadata": {},
   "outputs": [
    {
     "name": "stdout",
     "output_type": "stream",
     "text": [
      "1 Banana V 50.00 banana.jpg\n",
      "2 Pork M 50.00 img_avatar1_iwhF4M2.png\n",
      "3 Apple V 80.00 media_test.png\n",
      "4 Rambutan V 80.00 product.png\n",
      "5 test1 M 10.00 banana_UueksKv.jpg\n",
      "6 test2 M 20.00 banana_T95U433.jpg\n",
      "7 my_product V 123.00 asset-v1_Gennext_AcademyDSI200DSI200_0typeassetblock008.png\n"
     ]
    }
   ],
   "source": [
    "for i in Product.objects.all():\n",
    "    print(i.pk, i.name, i.category, i.price, i.image)"
   ]
  },
  {
   "cell_type": "code",
   "execution_count": 14,
   "metadata": {},
   "outputs": [
    {
     "name": "stdout",
     "output_type": "stream",
     "text": [
      "Banana V 50.00 banana.jpg\n",
      "Pork M 50.00 img_avatar1_iwhF4M2.png\n",
      "Apple V 80.00 media_test.png\n",
      "Rambutan V 80.00 product.png\n",
      "test1 M 10.00 banana_UueksKv.jpg\n",
      "test2 M 20.00 banana_T95U433.jpg\n",
      "my_product V 123.00 asset-v1_Gennext_AcademyDSI200DSI200_0typeassetblock008.png\n",
      "product_y M 12.00 \n",
      "ฝรั่ง V 145.00 \n"
     ]
    }
   ],
   "source": [
    "for i in Product.objects.all():\n",
    "    print(i.name, i.category, i.price, i.image)"
   ]
  },
  {
   "cell_type": "code",
   "execution_count": 5,
   "metadata": {},
   "outputs": [
    {
     "name": "stdout",
     "output_type": "stream",
     "text": [
      "Banana V 50.00 banana.jpg\n",
      "Apple V 80.00 media_test.png\n",
      "Rambutan V 80.00 product.png\n",
      "my_product V 123.00 asset-v1_Gennext_AcademyDSI200DSI200_0typeassetblock008.png\n"
     ]
    }
   ],
   "source": [
    "for i in Product.objects.filter(category='V'):\n",
    "    print(i.name, i.category, i.price, i.image)"
   ]
  },
  {
   "cell_type": "code",
   "execution_count": 22,
   "metadata": {},
   "outputs": [
    {
     "name": "stdout",
     "output_type": "stream",
     "text": [
      "<class 'myapp.models.Product'>\n",
      "4 Rambutan\n"
     ]
    }
   ],
   "source": [
    "x = Product.objects.get(pk=4)\n",
    "print(type(x))\n",
    "print(x.pk,x)"
   ]
  },
  {
   "cell_type": "code",
   "execution_count": 25,
   "metadata": {},
   "outputs": [
    {
     "name": "stdout",
     "output_type": "stream",
     "text": [
      "<class 'django.db.models.query.QuerySet'>\n",
      "SELECT \"myapp_product\".\"id\", \"myapp_product\".\"name\", \"myapp_product\".\"price\", \"myapp_product\".\"category\", \"myapp_product\".\"image\" FROM \"myapp_product\"\n",
      "Banana\n",
      "Pork\n",
      "Apple\n",
      "Rambutan\n",
      "test1\n",
      "test2\n",
      "my_product\n",
      "product_y\n"
     ]
    }
   ],
   "source": [
    "x=Product.objects.all()\n",
    "print(type(x))\n",
    "print(x.query)\n",
    "for i in x:\n",
    "    print(i)"
   ]
  },
  {
   "cell_type": "code",
   "execution_count": 27,
   "metadata": {},
   "outputs": [
    {
     "name": "stdout",
     "output_type": "stream",
     "text": [
      "Banana\n",
      "Pork\n",
      "Apple\n",
      "Rambutan\n",
      "test1\n",
      "test2\n",
      "my_product\n",
      "product_y\n"
     ]
    }
   ],
   "source": [
    "for p in Product.objects.raw('SELECT * FROM myapp_product'):\n",
    "    print(p)"
   ]
  },
  {
   "cell_type": "code",
   "execution_count": 26,
   "metadata": {},
   "outputs": [
    {
     "name": "stdout",
     "output_type": "stream",
     "text": [
      "SELECT \"myapp_product\".\"id\", \"myapp_product\".\"name\", \"myapp_product\".\"price\", \"myapp_product\".\"category\", \"myapp_product\".\"image\" FROM \"myapp_product\" WHERE \"myapp_product\".\"category\" = v\n"
     ]
    }
   ],
   "source": [
    "x=Product.objects.filter(category='v')\n",
    "print(x.query)"
   ]
  },
  {
   "cell_type": "code",
   "execution_count": 28,
   "metadata": {},
   "outputs": [
    {
     "name": "stdout",
     "output_type": "stream",
     "text": [
      "SELECT \"myapp_product\".\"id\", \"myapp_product\".\"name\", \"myapp_product\".\"price\", \"myapp_product\".\"category\", \"myapp_product\".\"image\" FROM \"myapp_product\" WHERE \"myapp_product\".\"price\" = 123\n"
     ]
    }
   ],
   "source": [
    "x=Product.objects.filter(price=123)\n",
    "print(x.query)"
   ]
  },
  {
   "cell_type": "code",
   "execution_count": 30,
   "metadata": {},
   "outputs": [
    {
     "name": "stdout",
     "output_type": "stream",
     "text": [
      "SELECT \"myapp_product\".\"id\", \"myapp_product\".\"name\", \"myapp_product\".\"price\", \"myapp_product\".\"category\", \"myapp_product\".\"image\" FROM \"myapp_product\" WHERE \"myapp_product\".\"price\" < 123\n"
     ]
    }
   ],
   "source": [
    "x=Product.objects.filter(price__lt=123)\n",
    "print(x.query)"
   ]
  },
  {
   "cell_type": "code",
   "execution_count": 31,
   "metadata": {},
   "outputs": [
    {
     "name": "stdout",
     "output_type": "stream",
     "text": [
      "SELECT \"myapp_product\".\"id\", \"myapp_product\".\"name\", \"myapp_product\".\"price\", \"myapp_product\".\"category\", \"myapp_product\".\"image\" FROM \"myapp_product\" WHERE \"myapp_product\".\"price\" <= 123\n"
     ]
    }
   ],
   "source": [
    "x=Product.objects.filter(price__lte=123)\n",
    "print(x.query)"
   ]
  },
  {
   "cell_type": "code",
   "execution_count": 11,
   "metadata": {},
   "outputs": [],
   "source": [
    "y = Product(name='product_y', price=12)"
   ]
  },
  {
   "cell_type": "code",
   "execution_count": 14,
   "metadata": {},
   "outputs": [],
   "source": [
    "y.save()"
   ]
  },
  {
   "cell_type": "code",
   "execution_count": 16,
   "metadata": {},
   "outputs": [],
   "source": [
    "from import_export import resources\n",
    "class ProductResource(resources.ModelResource):\n",
    "    class Meta:\n",
    "        model = Product"
   ]
  },
  {
   "cell_type": "code",
   "execution_count": 17,
   "metadata": {},
   "outputs": [],
   "source": [
    "product_resource = ProductResource()\n",
    "dataset = product_resource.export()"
   ]
  },
  {
   "cell_type": "code",
   "execution_count": 18,
   "metadata": {},
   "outputs": [],
   "source": [
    "with open('myexcel.xls', 'wb') as f:\n",
    "    f.write(dataset.xls)"
   ]
  },
  {
   "cell_type": "code",
   "execution_count": 13,
   "metadata": {},
   "outputs": [
    {
     "name": "stdout",
     "output_type": "stream",
     "text": [
      "db.sqlite3\n",
      "manage.py\n",
      "media\n",
      "myapp\n",
      "myexcel.xls\n",
      "myproject\n",
      "static\n",
      "template\n",
      "week05 basic query.ipynb\n"
     ]
    }
   ],
   "source": [
    "%%sh\n",
    "ls"
   ]
  },
  {
   "cell_type": "code",
   "execution_count": null,
   "metadata": {},
   "outputs": [],
   "source": []
  }
 ],
 "metadata": {
  "kernelspec": {
   "display_name": "Django Shell-Plus",
   "language": "python",
   "name": "django_extensions"
  },
  "language_info": {
   "codemirror_mode": {
    "name": "ipython",
    "version": 3
   },
   "file_extension": ".py",
   "mimetype": "text/x-python",
   "name": "python",
   "nbconvert_exporter": "python",
   "pygments_lexer": "ipython3",
   "version": "3.6.6"
  }
 },
 "nbformat": 4,
 "nbformat_minor": 2
}
