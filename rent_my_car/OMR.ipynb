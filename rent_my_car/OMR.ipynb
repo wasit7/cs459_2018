{
 "cells": [
  {
   "cell_type": "code",
   "execution_count": 4,
   "metadata": {},
   "outputs": [
    {
     "name": "stdout",
     "output_type": "stream",
     "text": [
      "Wasit Limprasert\n"
     ]
    }
   ],
   "source": [
    "x=Rent.objects.get(pk=1)\n",
    "print(x.customer)"
   ]
  },
  {
   "cell_type": "code",
   "execution_count": 5,
   "metadata": {},
   "outputs": [
    {
     "name": "stdout",
     "output_type": "stream",
     "text": [
      "Honda.Yaris\n"
     ]
    }
   ],
   "source": [
    "print(x.car)"
   ]
  },
  {
   "cell_type": "code",
   "execution_count": 6,
   "metadata": {},
   "outputs": [
    {
     "name": "stdout",
     "output_type": "stream",
     "text": [
      "Wasit Limprasert\n"
     ]
    }
   ],
   "source": [
    "x=Customer.objects.get(pk=1)\n",
    "print(x)"
   ]
  },
  {
   "cell_type": "code",
   "execution_count": 11,
   "metadata": {},
   "outputs": [
    {
     "data": {
      "text/plain": [
       "<QuerySet [<Rent: Rent object (1)>, <Rent: Rent object (2)>]>"
      ]
     },
     "execution_count": 11,
     "metadata": {},
     "output_type": "execute_result"
    }
   ],
   "source": [
    "x.rent_set.all()"
   ]
  },
  {
   "cell_type": "code",
   "execution_count": 13,
   "metadata": {},
   "outputs": [
    {
     "name": "stdout",
     "output_type": "stream",
     "text": [
      "SELECT \"myapp_rent\".\"id\", \"myapp_rent\".\"start\", \"myapp_rent\".\"stop\", \"myapp_rent\".\"cost\", \"myapp_rent\".\"customer_id\", \"myapp_rent\".\"car_id\" FROM \"myapp_rent\" WHERE \"myapp_rent\".\"customer_id\" = 1\n"
     ]
    }
   ],
   "source": [
    "print(Customer.objects.get(pk=1).rent_set.all().query)"
   ]
  },
  {
   "cell_type": "code",
   "execution_count": 14,
   "metadata": {},
   "outputs": [
    {
     "name": "stdout",
     "output_type": "stream",
     "text": [
      "SELECT \"myapp_rent\".\"id\", \"myapp_rent\".\"start\", \"myapp_rent\".\"stop\", \"myapp_rent\".\"cost\", \"myapp_rent\".\"customer_id\", \"myapp_rent\".\"car_id\" FROM \"myapp_rent\" WHERE \"myapp_rent\".\"car_id\" = 1\n"
     ]
    }
   ],
   "source": [
    "print(Car.objects.get(pk=1).rent_set.all().query)"
   ]
  },
  {
   "cell_type": "code",
   "execution_count": 22,
   "metadata": {},
   "outputs": [
    {
     "name": "stdout",
     "output_type": "stream",
     "text": [
      "Wasit Limprasert\n",
      "David Bach\n"
     ]
    }
   ],
   "source": [
    "#%%timeit -n1\n",
    "#who does rent the first car?\n",
    "for i in Car.objects.get(pk=1).rent_set.all():\n",
    "    print(i.customer)"
   ]
  },
  {
   "cell_type": "code",
   "execution_count": 24,
   "metadata": {},
   "outputs": [
    {
     "name": "stdout",
     "output_type": "stream",
     "text": [
      "SELECT \"myapp_rent\".\"id\", \"myapp_rent\".\"start\", \"myapp_rent\".\"stop\", \"myapp_rent\".\"cost\", \"myapp_rent\".\"customer_id\", \"myapp_rent\".\"car_id\" FROM \"myapp_rent\" WHERE \"myapp_rent\".\"car_id\" = 1\n"
     ]
    }
   ],
   "source": [
    "print(Car.objects.get(pk=1).rent_set.all().query)"
   ]
  },
  {
   "cell_type": "code",
   "execution_count": 23,
   "metadata": {},
   "outputs": [
    {
     "name": "stdout",
     "output_type": "stream",
     "text": [
      "Wasit Limprasert\n",
      "David Bach\n"
     ]
    }
   ],
   "source": [
    "#%%timeit -n1\n",
    "for i in Rent.objects.filter(car__pk=1):\n",
    "    print(i.customer)"
   ]
  },
  {
   "cell_type": "code",
   "execution_count": 25,
   "metadata": {},
   "outputs": [
    {
     "name": "stdout",
     "output_type": "stream",
     "text": [
      "SELECT \"myapp_rent\".\"id\", \"myapp_rent\".\"start\", \"myapp_rent\".\"stop\", \"myapp_rent\".\"cost\", \"myapp_rent\".\"customer_id\", \"myapp_rent\".\"car_id\" FROM \"myapp_rent\" WHERE \"myapp_rent\".\"car_id\" = 1\n"
     ]
    }
   ],
   "source": [
    "print(Rent.objects.filter(car__pk=1).query)"
   ]
  },
  {
   "cell_type": "code",
   "execution_count": 28,
   "metadata": {},
   "outputs": [
    {
     "name": "stdout",
     "output_type": "stream",
     "text": [
      "400.00\n"
     ]
    }
   ],
   "source": [
    "#How much money the first person rent?\n",
    "x=0\n",
    "for i in Customer.objects.get(pk=1).rent_set.all():\n",
    "    x+=i.cost\n",
    "print(x)"
   ]
  },
  {
   "cell_type": "code",
   "execution_count": 30,
   "metadata": {},
   "outputs": [
    {
     "name": "stdout",
     "output_type": "stream",
     "text": [
      "400.00\n"
     ]
    }
   ],
   "source": [
    "x=0\n",
    "for i in Rent.objects.filter(customer__pk=1):\n",
    "    x+=i.cost\n",
    "print(x)"
   ]
  },
  {
   "cell_type": "code",
   "execution_count": 32,
   "metadata": {},
   "outputs": [
    {
     "data": {
      "text/plain": [
       "<QuerySet [<Rent: Rent object (1)>, <Rent: Rent object (2)>, <Rent: Rent object (3)>, <Rent: Rent object (4)>, <Rent: Rent object (5)>, <Rent: Rent object (6)>]>"
      ]
     },
     "execution_count": 32,
     "metadata": {},
     "output_type": "execute_result"
    }
   ],
   "source": [
    "Rent.objects.all()"
   ]
  },
  {
   "cell_type": "code",
   "execution_count": 34,
   "metadata": {},
   "outputs": [
    {
     "data": {
      "text/plain": [
       "<QuerySet [{'customer': 1}, {'customer': 1}, {'customer': 2}, {'customer': 2}, {'customer': 3}, {'customer': 3}]>"
      ]
     },
     "execution_count": 34,
     "metadata": {},
     "output_type": "execute_result"
    }
   ],
   "source": [
    "Rent.objects.values('customer')"
   ]
  },
  {
   "cell_type": "code",
   "execution_count": 37,
   "metadata": {},
   "outputs": [
    {
     "data": {
      "text/plain": [
       "<QuerySet [{'customer': 1, 'cost__sum': Decimal('400')}, {'customer': 2, 'cost__sum': Decimal('2222')}, {'customer': 3, 'cost__sum': Decimal('777')}]>"
      ]
     },
     "execution_count": 37,
     "metadata": {},
     "output_type": "execute_result"
    }
   ],
   "source": [
    "Rent.objects.values('customer').annotate(Sum('cost'))"
   ]
  },
  {
   "cell_type": "code",
   "execution_count": 38,
   "metadata": {},
   "outputs": [
    {
     "name": "stdout",
     "output_type": "stream",
     "text": [
      "SELECT \"myapp_rent\".\"customer_id\", CAST(SUM(\"myapp_rent\".\"cost\") AS NUMERIC) AS \"cost__sum\" FROM \"myapp_rent\" GROUP BY \"myapp_rent\".\"customer_id\"\n"
     ]
    }
   ],
   "source": [
    "print(Rent.objects.values('customer').annotate(Sum('cost')).query)"
   ]
  },
  {
   "cell_type": "code",
   "execution_count": 41,
   "metadata": {},
   "outputs": [],
   "source": [
    "x=Rent.objects.raw('''\n",
    "SELECT \"myapp_rent\".\"customer_id\", CAST(SUM(\"myapp_rent\".\"cost\") AS NUMERIC) AS \"cost__sum\" FROM \"myapp_rent\" GROUP BY \"myapp_rent\".\"customer_id\"\n",
    "''')"
   ]
  },
  {
   "cell_type": "code",
   "execution_count": null,
   "metadata": {},
   "outputs": [],
   "source": []
  }
 ],
 "metadata": {
  "kernelspec": {
   "display_name": "Django Shell-Plus",
   "language": "python",
   "name": "django_extensions"
  },
  "language_info": {
   "codemirror_mode": {
    "name": "ipython",
    "version": 3
   },
   "file_extension": ".py",
   "mimetype": "text/x-python",
   "name": "python",
   "nbconvert_exporter": "python",
   "pygments_lexer": "ipython3",
   "version": "3.6.6"
  }
 },
 "nbformat": 4,
 "nbformat_minor": 2
}
